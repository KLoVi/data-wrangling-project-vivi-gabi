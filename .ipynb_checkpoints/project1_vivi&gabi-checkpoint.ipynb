{
 "cells": [
  {
   "cell_type": "code",
   "execution_count": 1,
   "id": "534c257b-d908-49f1-8b50-15e3546342d5",
   "metadata": {},
   "outputs": [],
   "source": [
    "#vamos"
   ]
  },
  {
   "cell_type": "code",
   "execution_count": null,
   "id": "08c8d175-49c6-49f8-9e34-1bd3fc2be48f",
   "metadata": {},
   "outputs": [],
   "source": [
    ":)))"
   ]
  },
  {
   "cell_type": "code",
   "execution_count": null,
   "id": "5008859e",
   "metadata": {},
   "outputs": [],
   "source": []
  },
  {
   "cell_type": "code",
   "execution_count": null,
   "id": "23039a65",
   "metadata": {},
   "outputs": [],
   "source": []
  },
  {
   "cell_type": "code",
   "execution_count": null,
   "id": "18649e1e",
   "metadata": {},
   "outputs": [],
   "source": []
  },
  {
   "cell_type": "code",
   "execution_count": 3,
   "id": "e00b6555",
   "metadata": {},
   "outputs": [
    {
     "data": {
      "text/plain": [
       "'KKKKKKK dsdsdsnfnf. 1234'"
      ]
     },
     "execution_count": 3,
     "metadata": {},
     "output_type": "execute_result"
    }
   ],
   "source": [
    "\"KKKKKKK dsdsdsnfnf. \" \"1234\""
   ]
  }
 ],
 "metadata": {
  "kernelspec": {
   "display_name": "Python 3 (ipykernel)",
   "language": "python",
   "name": "python3"
  },
  "language_info": {
   "codemirror_mode": {
    "name": "ipython",
    "version": 3
   },
   "file_extension": ".py",
   "mimetype": "text/x-python",
   "name": "python",
   "nbconvert_exporter": "python",
   "pygments_lexer": "ipython3",
   "version": "3.11.7"
  }
 },
 "nbformat": 4,
 "nbformat_minor": 5
}
