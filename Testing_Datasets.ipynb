{
 "cells": [
  {
   "cell_type": "code",
   "execution_count": null,
   "id": "18d73c30",
   "metadata": {},
   "outputs": [],
   "source": [
    "import pandas as pd"
   ]
  },
  {
   "cell_type": "code",
   "execution_count": null,
   "id": "4ef51982",
   "metadata": {},
   "outputs": [],
   "source": [
    "url_1 =\n",
    "url_2 =\n",
    "url_3 =\n",
    "url_4 =\n",
    "url_5 =\n"
   ]
  },
  {
   "cell_type": "code",
   "execution_count": null,
   "id": "03c8153d",
   "metadata": {},
   "outputs": [],
   "source": [
    "df = pd.read_csv(url_1)"
   ]
  }
 ],
 "metadata": {
  "kernelspec": {
   "display_name": "Python 3 (ipykernel)",
   "language": "python",
   "name": "python3"
  },
  "language_info": {
   "codemirror_mode": {
    "name": "ipython",
    "version": 3
   },
   "file_extension": ".py",
   "mimetype": "text/x-python",
   "name": "python",
   "nbconvert_exporter": "python",
   "pygments_lexer": "ipython3",
   "version": "3.11.7"
  }
 },
 "nbformat": 4,
 "nbformat_minor": 5
}
