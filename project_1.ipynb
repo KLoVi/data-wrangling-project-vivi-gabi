{
 "cells": [
  {
   "cell_type": "code",
   "execution_count": 1,
   "id": "c1e0fa58-4bd3-41cd-aef0-923b7bdfbaf2",
   "metadata": {},
   "outputs": [],
   "source": [
    "#vamos"
   ]
  },
  {
   "cell_type": "code",
   "execution_count": 2,
   "id": "c90c9364-846e-4641-a0e0-553a576861e8",
   "metadata": {},
   "outputs": [],
   "source": [
    "#gabi"
   ]
  },
  {
   "cell_type": "code",
   "execution_count": null,
   "id": "730442e4-1699-4891-89e2-dd707906db0a",
   "metadata": {},
   "outputs": [],
   "source": []
  }
 ],
 "metadata": {
  "kernelspec": {
   "display_name": "Python 3 (ipykernel)",
   "language": "python",
   "name": "python3"
  },
  "language_info": {
   "codemirror_mode": {
    "name": "ipython",
    "version": 3
   },
   "file_extension": ".py",
   "mimetype": "text/x-python",
   "name": "python",
   "nbconvert_exporter": "python",
   "pygments_lexer": "ipython3",
   "version": "3.11.7"
  }
 },
 "nbformat": 4,
 "nbformat_minor": 5
}
